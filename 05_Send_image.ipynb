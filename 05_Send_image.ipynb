{
 "cells": [
  {
   "cell_type": "code",
   "execution_count": 1,
   "id": "9c427989-2091-4916-a388-d1015ded029a",
   "metadata": {},
   "outputs": [],
   "source": [
    "my_image = 'test_sample_1.jpg'\n",
    "my_route = 'http://image-segmentation-git-ai-project.apps.pilot.j61u.p1.openshiftapps.com/'"
   ]
  },
  {
   "cell_type": "code",
   "execution_count": 2,
   "id": "462aae17-f230-4b94-bc50-dbd3683896f1",
   "metadata": {},
   "outputs": [
    {
     "name": "stdout",
     "output_type": "stream",
     "text": [
      "b'<!DOCTYPE HTML PUBLIC \"-//W3C//DTD HTML 3.2 Final//EN\">\\n<title>500 Internal Server Error</title>\\n<h1>Internal Server Error</h1>\\n<p>The server encountered an internal error and was unable to complete your request. Either the server is overloaded or there is an error in the application.</p>\\n'\n"
     ]
    }
   ],
   "source": [
    "import base64\n",
    "import requests\n",
    "from json import dumps\n",
    "\n",
    "with open(my_image, \"rb\") as image_file:\n",
    "    encoded_image = base64.b64encode(image_file.read()).decode('utf-8')\n",
    "content = {\"image\": encoded_image}\n",
    "json_data = dumps(content)\n",
    "\n",
    "headers = {\"Content-Type\" : \"application/json\"}\n",
    "\n",
    "r = requests.post(my_route + '/predictions', data=json_data, headers=headers)\n",
    "\n",
    "print(r.content)"
   ]
  },
  {
   "cell_type": "code",
   "execution_count": null,
   "id": "891932d0-e38b-4ecb-859b-1676e2ece803",
   "metadata": {},
   "outputs": [],
   "source": []
  }
 ],
 "metadata": {
  "kernelspec": {
   "display_name": "Python 3 (ipykernel)",
   "language": "python",
   "name": "python3"
  },
  "language_info": {
   "codemirror_mode": {
    "name": "ipython",
    "version": 3
   },
   "file_extension": ".py",
   "mimetype": "text/x-python",
   "name": "python",
   "nbconvert_exporter": "python",
   "pygments_lexer": "ipython3",
   "version": "3.8.8"
  }
 },
 "nbformat": 4,
 "nbformat_minor": 5
}
