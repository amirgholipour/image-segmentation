{
 "cells": [
  {
   "cell_type": "code",
   "execution_count": null,
   "id": "4e738cc4-170d-419b-b5ae-4e945378a825",
   "metadata": {},
   "outputs": [],
   "source": [
    "\"block1b_project_activation\"\n",
    "\"block2c_expand_activation\"\n",
    "\"block4a_expand_activation\"\n",
    "\"block6a_expand_activation\"\n",
    "\"block6l_project_conv\""
   ]
  },
  {
   "cell_type": "code",
   "execution_count": null,
   "id": "df21b42f-8105-42d6-9ba1-04aaaf834462",
   "metadata": {},
   "outputs": [],
   "source": [
    "block1a_project_activation\n",
    "block2b_expand_activation\n",
    "block4a_expand_activation\n",
    "block6a_expand_activation\n",
    "block6h_project_conv"
   ]
  }
 ],
 "metadata": {
  "kernelspec": {
   "display_name": "",
   "name": ""
  },
  "language_info": {
   "name": ""
  }
 },
 "nbformat": 4,
 "nbformat_minor": 5
}
