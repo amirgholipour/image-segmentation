{
 "cells": [
  {
   "cell_type": "markdown",
   "metadata": {},
   "source": [
    "## Test Flask App\n",
    "From the other notebook, `03_ISeg_run_application.ipynb`, the flask app is running and ready to serve requests using python http or `curl` statements."
   ]
  },
  {
   "cell_type": "markdown",
   "metadata": {},
   "source": [
    "We can start by testing that the server is indeed running:"
   ]
  },
  {
   "cell_type": "code",
   "execution_count": 1,
   "metadata": {
    "ExecuteTime": {
     "end_time": "2021-04-13T20:19:12.719421Z",
     "start_time": "2021-04-13T20:19:12.076099Z"
    },
    "scrolled": true
   },
   "outputs": [
    {
     "name": "stdout",
     "output_type": "stream",
     "text": [
      "{\n",
      "  \"status\": \"ok\"\n",
      "}\n"
     ]
    }
   ],
   "source": [
    "!curl http://localhost:5000/status"
   ]
  },
  {
   "cell_type": "markdown",
   "metadata": {},
   "source": [
    "Now we can use curl to send the name of an image, and wait for the result:"
   ]
  },
  {
   "cell_type": "code",
   "execution_count": 2,
   "metadata": {
    "ExecuteTime": {
     "end_time": "2021-04-13T20:19:54.309066Z",
     "start_time": "2021-04-13T20:19:49.337731Z"
    }
   },
   "outputs": [
    {
     "name": "stdout",
     "output_type": "stream",
     "text": [
      "<!DOCTYPE HTML PUBLIC \"-//W3C//DTD HTML 4.01 Transitional//EN\"\n",
      "  \"http://www.w3.org/TR/html4/loose.dtd\">\n",
      "<html>\n",
      "  <head>\n",
      "    <title>TypeError: &#x27;NoneType&#x27; object is not callable // Werkzeug Debugger</title>\n",
      "    <link rel=\"stylesheet\" href=\"?__debugger__=yes&amp;cmd=resource&amp;f=style.css\"\n",
      "        type=\"text/css\">\n",
      "    <!-- We need to make sure this has a favicon so that the debugger does\n",
      "         not accidentally trigger a request to /favicon.ico which might\n",
      "         change the application's state. -->\n",
      "    <link rel=\"shortcut icon\"\n",
      "        href=\"?__debugger__=yes&amp;cmd=resource&amp;f=console.png\">\n",
      "    <script src=\"?__debugger__=yes&amp;cmd=resource&amp;f=debugger.js\"></script>\n",
      "    <script type=\"text/javascript\">\n",
      "      var TRACEBACK = 139859252111248,\n",
      "          CONSOLE_MODE = false,\n",
      "          EVALEX = true,\n",
      "          EVALEX_TRUSTED = false,\n",
      "          SECRET = \"tQtuPfb7G8LnUMYL97dY\";\n",
      "    </script>\n",
      "  </head>\n",
      "  <body style=\"background-color: #fff\">\n",
      "    <div class=\"debugger\">\n",
      "<h1>TypeError</h1>\n",
      "<div class=\"detail\">\n",
      "  <p class=\"errormsg\">TypeError: &#x27;NoneType&#x27; object is not callable</p>\n",
      "</div>\n",
      "<h2 class=\"traceback\">Traceback <em>(most recent call last)</em></h2>\n",
      "<div class=\"traceback\">\n",
      "  <h3></h3>\n",
      "  <ul><li><div class=\"frame\" id=\"frame-139859252112448\">\n",
      "  <h4>File <cite class=\"filename\">\"/opt/app-root/lib/python3.8/site-packages/flask/app.py\"</cite>,\n",
      "      line <em class=\"line\">2091</em>,\n",
      "      in <code class=\"function\">__call__</code></h4>\n",
      "  <div class=\"source \"><pre class=\"line before\"><span class=\"ws\">    </span>def __call__(self, environ: dict, start_response: t.Callable) -&gt; t.Any:</pre>\n",
      "<pre class=\"line before\"><span class=\"ws\">        </span>&quot;&quot;&quot;The WSGI server calls the Flask application object as the</pre>\n",
      "<pre class=\"line before\"><span class=\"ws\">        </span>WSGI application. This calls :meth:`wsgi_app`, which can be</pre>\n",
      "<pre class=\"line before\"><span class=\"ws\">        </span>wrapped to apply middleware.</pre>\n",
      "<pre class=\"line before\"><span class=\"ws\">        </span>&quot;&quot;&quot;</pre>\n",
      "<pre class=\"line current\"><span class=\"ws\">        </span>return self.wsgi_app(environ, start_response)</pre></div>\n",
      "</div>\n",
      "\n",
      "<li><div class=\"frame\" id=\"frame-139859252112592\">\n",
      "  <h4>File <cite class=\"filename\">\"/opt/app-root/lib/python3.8/site-packages/flask/app.py\"</cite>,\n",
      "      line <em class=\"line\">2076</em>,\n",
      "      in <code class=\"function\">wsgi_app</code></h4>\n",
      "  <div class=\"source \"><pre class=\"line before\"><span class=\"ws\">            </span>try:</pre>\n",
      "<pre class=\"line before\"><span class=\"ws\">                </span>ctx.push()</pre>\n",
      "<pre class=\"line before\"><span class=\"ws\">                </span>response = self.full_dispatch_request()</pre>\n",
      "<pre class=\"line before\"><span class=\"ws\">            </span>except Exception as e:</pre>\n",
      "<pre class=\"line before\"><span class=\"ws\">                </span>error = e</pre>\n",
      "<pre class=\"line current\"><span class=\"ws\">                </span>response = self.handle_exception(e)</pre>\n",
      "<pre class=\"line after\"><span class=\"ws\">            </span>except:  # noqa: B001</pre>\n",
      "<pre class=\"line after\"><span class=\"ws\">                </span>error = sys.exc_info()[1]</pre>\n",
      "<pre class=\"line after\"><span class=\"ws\">                </span>raise</pre>\n",
      "<pre class=\"line after\"><span class=\"ws\">            </span>return response(environ, start_response)</pre>\n",
      "<pre class=\"line after\"><span class=\"ws\">        </span>finally:</pre></div>\n",
      "</div>\n",
      "\n",
      "<li><div class=\"frame\" id=\"frame-139859252112928\">\n",
      "  <h4>File <cite class=\"filename\">\"/opt/app-root/lib/python3.8/site-packages/flask/app.py\"</cite>,\n",
      "      line <em class=\"line\">2073</em>,\n",
      "      in <code class=\"function\">wsgi_app</code></h4>\n",
      "  <div class=\"source \"><pre class=\"line before\"><span class=\"ws\">        </span>ctx = self.request_context(environ)</pre>\n",
      "<pre class=\"line before\"><span class=\"ws\">        </span>error: t.Optional[BaseException] = None</pre>\n",
      "<pre class=\"line before\"><span class=\"ws\">        </span>try:</pre>\n",
      "<pre class=\"line before\"><span class=\"ws\">            </span>try:</pre>\n",
      "<pre class=\"line before\"><span class=\"ws\">                </span>ctx.push()</pre>\n",
      "<pre class=\"line current\"><span class=\"ws\">                </span>response = self.full_dispatch_request()</pre>\n",
      "<pre class=\"line after\"><span class=\"ws\">            </span>except Exception as e:</pre>\n",
      "<pre class=\"line after\"><span class=\"ws\">                </span>error = e</pre>\n",
      "<pre class=\"line after\"><span class=\"ws\">                </span>response = self.handle_exception(e)</pre>\n",
      "<pre class=\"line after\"><span class=\"ws\">            </span>except:  # noqa: B001</pre>\n",
      "<pre class=\"line after\"><span class=\"ws\">                </span>error = sys.exc_info()[1]</pre></div>\n",
      "</div>\n",
      "\n",
      "<li><div class=\"frame\" id=\"frame-139859252112976\">\n",
      "  <h4>File <cite class=\"filename\">\"/opt/app-root/lib/python3.8/site-packages/flask/app.py\"</cite>,\n",
      "      line <em class=\"line\">1518</em>,\n",
      "      in <code class=\"function\">full_dispatch_request</code></h4>\n",
      "  <div class=\"source \"><pre class=\"line before\"><span class=\"ws\">            </span>request_started.send(self)</pre>\n",
      "<pre class=\"line before\"><span class=\"ws\">            </span>rv = self.preprocess_request()</pre>\n",
      "<pre class=\"line before\"><span class=\"ws\">            </span>if rv is None:</pre>\n",
      "<pre class=\"line before\"><span class=\"ws\">                </span>rv = self.dispatch_request()</pre>\n",
      "<pre class=\"line before\"><span class=\"ws\">        </span>except Exception as e:</pre>\n",
      "<pre class=\"line current\"><span class=\"ws\">            </span>rv = self.handle_user_exception(e)</pre>\n",
      "<pre class=\"line after\"><span class=\"ws\">        </span>return self.finalize_request(rv)</pre>\n",
      "<pre class=\"line after\"><span class=\"ws\"></span> </pre>\n",
      "<pre class=\"line after\"><span class=\"ws\">    </span>def finalize_request(</pre>\n",
      "<pre class=\"line after\"><span class=\"ws\">        </span>self,</pre>\n",
      "<pre class=\"line after\"><span class=\"ws\">        </span>rv: t.Union[ResponseReturnValue, HTTPException],</pre></div>\n",
      "</div>\n",
      "\n",
      "<li><div class=\"frame\" id=\"frame-139859252113024\">\n",
      "  <h4>File <cite class=\"filename\">\"/opt/app-root/lib/python3.8/site-packages/flask/app.py\"</cite>,\n",
      "      line <em class=\"line\">1516</em>,\n",
      "      in <code class=\"function\">full_dispatch_request</code></h4>\n",
      "  <div class=\"source \"><pre class=\"line before\"><span class=\"ws\">        </span>self.try_trigger_before_first_request_functions()</pre>\n",
      "<pre class=\"line before\"><span class=\"ws\">        </span>try:</pre>\n",
      "<pre class=\"line before\"><span class=\"ws\">            </span>request_started.send(self)</pre>\n",
      "<pre class=\"line before\"><span class=\"ws\">            </span>rv = self.preprocess_request()</pre>\n",
      "<pre class=\"line before\"><span class=\"ws\">            </span>if rv is None:</pre>\n",
      "<pre class=\"line current\"><span class=\"ws\">                </span>rv = self.dispatch_request()</pre>\n",
      "<pre class=\"line after\"><span class=\"ws\">        </span>except Exception as e:</pre>\n",
      "<pre class=\"line after\"><span class=\"ws\">            </span>rv = self.handle_user_exception(e)</pre>\n",
      "<pre class=\"line after\"><span class=\"ws\">        </span>return self.finalize_request(rv)</pre>\n",
      "<pre class=\"line after\"><span class=\"ws\"></span> </pre>\n",
      "<pre class=\"line after\"><span class=\"ws\">    </span>def finalize_request(</pre></div>\n",
      "</div>\n",
      "\n",
      "<li><div class=\"frame\" id=\"frame-139859252113216\">\n",
      "  <h4>File <cite class=\"filename\">\"/opt/app-root/lib/python3.8/site-packages/flask/app.py\"</cite>,\n",
      "      line <em class=\"line\">1502</em>,\n",
      "      in <code class=\"function\">dispatch_request</code></h4>\n",
      "  <div class=\"source \"><pre class=\"line before\"><span class=\"ws\">            </span>getattr(rule, &quot;provide_automatic_options&quot;, False)</pre>\n",
      "<pre class=\"line before\"><span class=\"ws\">            </span>and req.method == &quot;OPTIONS&quot;</pre>\n",
      "<pre class=\"line before\"><span class=\"ws\">        </span>):</pre>\n",
      "<pre class=\"line before\"><span class=\"ws\">            </span>return self.make_default_options_response()</pre>\n",
      "<pre class=\"line before\"><span class=\"ws\">        </span># otherwise dispatch to the handler for that endpoint</pre>\n",
      "<pre class=\"line current\"><span class=\"ws\">        </span>return self.ensure_sync(self.view_functions[rule.endpoint])(**req.view_args)</pre>\n",
      "<pre class=\"line after\"><span class=\"ws\"></span> </pre>\n",
      "<pre class=\"line after\"><span class=\"ws\">    </span>def full_dispatch_request(self) -&gt; Response:</pre>\n",
      "<pre class=\"line after\"><span class=\"ws\">        </span>&quot;&quot;&quot;Dispatches the request and on top of that performs request</pre>\n",
      "<pre class=\"line after\"><span class=\"ws\">        </span>pre and postprocessing as well as HTTP exception catching and</pre>\n",
      "<pre class=\"line after\"><span class=\"ws\">        </span>error handling.</pre></div>\n",
      "</div>\n",
      "\n",
      "<li><div class=\"frame\" id=\"frame-139859252113072\">\n",
      "  <h4>File <cite class=\"filename\">\"/opt/app-root/src/image-segmentation/wsgi.py\"</cite>,\n",
      "      line <em class=\"line\">18</em>,\n",
      "      in <code class=\"function\">object_detection</code></h4>\n",
      "  <div class=\"source \"><pre class=\"line before\"><span class=\"ws\"></span> </pre>\n",
      "<pre class=\"line before\"><span class=\"ws\"></span>@application.route(&#x27;/predictions&#x27;, methods=[&#x27;POST&#x27;])</pre>\n",
      "<pre class=\"line before\"><span class=\"ws\"></span>def object_detection():</pre>\n",
      "<pre class=\"line before\"><span class=\"ws\">    </span>data = request.data or &#x27;{}&#x27;</pre>\n",
      "<pre class=\"line before\"><span class=\"ws\">    </span>body = json.loads(data)</pre>\n",
      "<pre class=\"line current\"><span class=\"ws\">    </span>return jsonify(predict(body))</pre></div>\n",
      "</div>\n",
      "\n",
      "<li><div class=\"frame\" id=\"frame-139859252112736\">\n",
      "  <h4>File <cite class=\"filename\">\"/opt/app-root/src/image-segmentation/prediction.py\"</cite>,\n",
      "      line <em class=\"line\">174</em>,\n",
      "      in <code class=\"function\">predict</code></h4>\n",
      "  <div class=\"source \"><pre class=\"line before\"><span class=\"ws\"></span>def predict(args_dict):</pre>\n",
      "<pre class=\"line before\"><span class=\"ws\">    </span>if args_dict.get(&#x27;image&#x27;) is not None:</pre>\n",
      "<pre class=\"line before\"><span class=\"ws\">        </span>pred_mask = process_base64_image(args_dict)</pre>\n",
      "<pre class=\"line before\"><span class=\"ws\">    </span>else:</pre>\n",
      "<pre class=\"line before\"><span class=\"ws\">        </span>filename = os.path.join(&#x27;dataset/images&#x27;, args_dict.get(&#x27;data&#x27;))</pre>\n",
      "<pre class=\"line current\"><span class=\"ws\">        </span>pred_mask = process_file(filename)</pre>\n",
      "<pre class=\"line after\"><span class=\"ws\">    </span>return {&#x27;pred_mask&#x27;: pred_mask.numpy().tolist()}</pre></div>\n",
      "</div>\n",
      "\n",
      "<li><div class=\"frame\" id=\"frame-139859252113120\">\n",
      "  <h4>File <cite class=\"filename\">\"/opt/app-root/src/image-segmentation/prediction.py\"</cite>,\n",
      "      line <em class=\"line\">149</em>,\n",
      "      in <code class=\"function\">process_file</code></h4>\n",
      "  <div class=\"source \"><pre class=\"line before\"><span class=\"ws\"></span> </pre>\n",
      "<pre class=\"line before\"><span class=\"ws\"></span> </pre>\n",
      "<pre class=\"line before\"><span class=\"ws\"></span> </pre>\n",
      "<pre class=\"line before\"><span class=\"ws\"></span>def process_file(filename):</pre>\n",
      "<pre class=\"line before\"><span class=\"ws\">    </span>if filename.endswith(&quot;.jpg&quot;) or filename.endswith(&quot;.jpeg&quot;) or filename.endswith(&quot;.png&quot;):</pre>\n",
      "<pre class=\"line current\"><span class=\"ws\">        </span>pred_mask = get_segmentation(filename)</pre>\n",
      "<pre class=\"line after\"><span class=\"ws\">    </span>else:</pre>\n",
      "<pre class=\"line after\"><span class=\"ws\">        </span>pred_mask = &#x27;This is not a valid image file&#x27;</pre>\n",
      "<pre class=\"line after\"><span class=\"ws\">        </span>input_image = &#x27;none&#x27;</pre>\n",
      "<pre class=\"line after\"><span class=\"ws\">        </span>print(pred_mask)</pre>\n",
      "<pre class=\"line after\"><span class=\"ws\">    </span>return pred_mask</pre></div>\n",
      "</div>\n",
      "\n",
      "<li><div class=\"frame\" id=\"frame-139859252113168\">\n",
      "  <h4>File <cite class=\"filename\">\"/opt/app-root/src/image-segmentation/prediction.py\"</cite>,\n",
      "      line <em class=\"line\">140</em>,\n",
      "      in <code class=\"function\">get_segmentation</code></h4>\n",
      "  <div class=\"source \"><pre class=\"line before\"><span class=\"ws\"></span>##############################################################################</pre>\n",
      "<pre class=\"line before\"><span class=\"ws\"></span># Returns the image of the car (vehicle) and the Licence plate image (LpImg) #</pre>\n",
      "<pre class=\"line before\"><span class=\"ws\"></span>##############################################################################</pre>\n",
      "<pre class=\"line before\"><span class=\"ws\"></span>def get_segmentation(image_path, Dmax=608, Dmin = 608):</pre>\n",
      "<pre class=\"line before\"><span class=\"ws\">    </span>input_image = preprocess_image(image_path)</pre>\n",
      "<pre class=\"line current\"><span class=\"ws\">    </span>pred_mask = img_seg_net(input_image)</pre>\n",
      "<pre class=\"line after\"><span class=\"ws\"></span> </pre>\n",
      "<pre class=\"line after\"><span class=\"ws\">    </span>show_predictions(input_image, pred_mask)</pre>\n",
      "<pre class=\"line after\"><span class=\"ws\">    </span>return create_mask(pred_mask)</pre>\n",
      "<pre class=\"line after\"><span class=\"ws\"></span> </pre>\n",
      "<pre class=\"line after\"><span class=\"ws\"></span> </pre></div>\n",
      "</div>\n",
      "</ul>\n",
      "  <blockquote>TypeError: &#x27;NoneType&#x27; object is not callable</blockquote>\n",
      "</div>\n",
      "\n",
      "<div class=\"plain\">\n",
      "    <p>\n",
      "      This is the Copy/Paste friendly version of the traceback.\n",
      "    </p>\n",
      "    <textarea cols=\"50\" rows=\"10\" name=\"code\" readonly>Traceback (most recent call last):\n",
      "  File &quot;/opt/app-root/lib/python3.8/site-packages/flask/app.py&quot;, line 2091, in __call__\n",
      "    return self.wsgi_app(environ, start_response)\n",
      "  File &quot;/opt/app-root/lib/python3.8/site-packages/flask/app.py&quot;, line 2076, in wsgi_app\n",
      "    response = self.handle_exception(e)\n",
      "  File &quot;/opt/app-root/lib/python3.8/site-packages/flask/app.py&quot;, line 2073, in wsgi_app\n",
      "    response = self.full_dispatch_request()\n",
      "  File &quot;/opt/app-root/lib/python3.8/site-packages/flask/app.py&quot;, line 1518, in full_dispatch_request\n",
      "    rv = self.handle_user_exception(e)\n",
      "  File &quot;/opt/app-root/lib/python3.8/site-packages/flask/app.py&quot;, line 1516, in full_dispatch_request\n",
      "    rv = self.dispatch_request()\n",
      "  File &quot;/opt/app-root/lib/python3.8/site-packages/flask/app.py&quot;, line 1502, in dispatch_request\n",
      "    return self.ensure_sync(self.view_functions[rule.endpoint])(**req.view_args)\n",
      "  File &quot;/opt/app-root/src/image-segmentation/wsgi.py&quot;, line 18, in object_detection\n",
      "    return jsonify(predict(body))\n",
      "  File &quot;/opt/app-root/src/image-segmentation/prediction.py&quot;, line 174, in predict\n",
      "    pred_mask = process_file(filename)\n",
      "  File &quot;/opt/app-root/src/image-segmentation/prediction.py&quot;, line 149, in process_file\n",
      "    pred_mask = get_segmentation(filename)\n",
      "  File &quot;/opt/app-root/src/image-segmentation/prediction.py&quot;, line 140, in get_segmentation\n",
      "    pred_mask = img_seg_net(input_image)\n",
      "TypeError: &#x27;NoneType&#x27; object is not callable</textarea>\n",
      "</div>\n",
      "<div class=\"explanation\">\n",
      "  The debugger caught an exception in your WSGI application.  You can now\n",
      "  look at the traceback which led to the error.  <span class=\"nojavascript\">\n",
      "  If you enable JavaScript you can also use additional features such as code\n",
      "  execution (if the evalex feature is enabled), automatic pasting of the\n",
      "  exceptions and much more.</span>\n",
      "</div>\n",
      "      <div class=\"footer\">\n",
      "        Brought to you by <strong class=\"arthur\">DON'T PANIC</strong>, your\n",
      "        friendly Werkzeug powered traceback interpreter.\n",
      "      </div>\n",
      "    </div>\n",
      "\n",
      "    <div class=\"pin-prompt\">\n",
      "      <div class=\"inner\">\n",
      "        <h3>Console Locked</h3>\n",
      "        <p>\n",
      "          The console is locked and needs to be unlocked by entering the PIN.\n",
      "          You can find the PIN printed out on the standard output of your\n",
      "          shell that runs the server.\n",
      "        <form>\n",
      "          <p>PIN:\n",
      "            <input type=text name=pin size=14>\n",
      "            <input type=submit name=btn value=\"Confirm Pin\">\n",
      "        </form>\n",
      "      </div>\n",
      "    </div>\n",
      "  </body>\n",
      "</html>\n",
      "\n",
      "<!--\n",
      "\n",
      "Traceback (most recent call last):\n",
      "  File \"/opt/app-root/lib/python3.8/site-packages/flask/app.py\", line 2091, in __call__\n",
      "    return self.wsgi_app(environ, start_response)\n",
      "  File \"/opt/app-root/lib/python3.8/site-packages/flask/app.py\", line 2076, in wsgi_app\n",
      "    response = self.handle_exception(e)\n",
      "  File \"/opt/app-root/lib/python3.8/site-packages/flask/app.py\", line 2073, in wsgi_app\n",
      "    response = self.full_dispatch_request()\n",
      "  File \"/opt/app-root/lib/python3.8/site-packages/flask/app.py\", line 1518, in full_dispatch_request\n",
      "    rv = self.handle_user_exception(e)\n",
      "  File \"/opt/app-root/lib/python3.8/site-packages/flask/app.py\", line 1516, in full_dispatch_request\n",
      "    rv = self.dispatch_request()\n",
      "  File \"/opt/app-root/lib/python3.8/site-packages/flask/app.py\", line 1502, in dispatch_request\n",
      "    return self.ensure_sync(self.view_functions[rule.endpoint])(**req.view_args)\n",
      "  File \"/opt/app-root/src/image-segmentation/wsgi.py\", line 18, in object_detection\n",
      "    return jsonify(predict(body))\n",
      "  File \"/opt/app-root/src/image-segmentation/prediction.py\", line 174, in predict\n",
      "    pred_mask = process_file(filename)\n",
      "  File \"/opt/app-root/src/image-segmentation/prediction.py\", line 149, in process_file\n",
      "    pred_mask = get_segmentation(filename)\n",
      "  File \"/opt/app-root/src/image-segmentation/prediction.py\", line 140, in get_segmentation\n",
      "    pred_mask = img_seg_net(input_image)\n",
      "TypeError: 'NoneType' object is not callable\n",
      "\n",
      "-->\n"
     ]
    }
   ],
   "source": [
    "!curl -X POST -H \"Content-Type: application/json\" --data '{\"data\": \"sample_1.jpg\"}' http://localhost:5000/predictions"
   ]
  },
  {
   "cell_type": "markdown",
   "metadata": {},
   "source": [
    "We could also do it using pure Python code:"
   ]
  },
  {
   "cell_type": "code",
   "execution_count": 9,
   "metadata": {
    "ExecuteTime": {
     "end_time": "2021-04-13T20:20:35.813968Z",
     "start_time": "2021-04-13T20:20:34.089627Z"
    }
   },
   "outputs": [],
   "source": [
    "import requests\n",
    "import json\n",
    "response = requests.post('http://127.0.0.1:5000/predictions', '{\"data\": \"sample_1.jpg\"}')\n",
    "#response.json()['pred_mask']\n"
   ]
  },
  {
   "cell_type": "code",
   "execution_count": 10,
   "metadata": {},
   "outputs": [
    {
     "ename": "JSONDecodeError",
     "evalue": "[Errno Expecting value] <!DOCTYPE HTML PUBLIC \"-//W3C//DTD HTML 4.01 Transitional//EN\"\n  \"http://www.w3.org/TR/html4/loose.dtd\">\n<html>\n  <head>\n    <title>TypeError: &#x27;NoneType&#x27; object is not callable // Werkzeug Debugger</title>\n    <link rel=\"stylesheet\" href=\"?__debugger__=yes&amp;cmd=resource&amp;f=style.css\"\n        type=\"text/css\">\n    <!-- We need to make sure this has a favicon so that the debugger does\n         not accidentally trigger a request to /favicon.ico which might\n         change the application's state. -->\n    <link rel=\"shortcut icon\"\n        href=\"?__debugger__=yes&amp;cmd=resource&amp;f=console.png\">\n    <script src=\"?__debugger__=yes&amp;cmd=resource&amp;f=debugger.js\"></script>\n    <script type=\"text/javascript\">\n      var TRACEBACK = 140641526157264,\n          CONSOLE_MODE = false,\n          EVALEX = true,\n          EVALEX_TRUSTED = false,\n          SECRET = \"E5KtzaHET0BnWNnG30MC\";\n    </script>\n  </head>\n  <body style=\"background-color: #fff\">\n    <div class=\"debugger\">\n<h1>TypeError</h1>\n<div class=\"detail\">\n  <p class=\"errormsg\">TypeError: &#x27;NoneType&#x27; object is not callable</p>\n</div>\n<h2 class=\"traceback\">Traceback <em>(most recent call last)</em></h2>\n<div class=\"traceback\">\n  <h3></h3>\n  <ul><li><div class=\"frame\" id=\"frame-140641524301888\">\n  <h4>File <cite class=\"filename\">\"/opt/app-root/lib/python3.8/site-packages/flask/app.py\"</cite>,\n      line <em class=\"line\">2091</em>,\n      in <code class=\"function\">__call__</code></h4>\n  <div class=\"source \"><pre class=\"line before\"><span class=\"ws\">    </span>def __call__(self, environ: dict, start_response: t.Callable) -&gt; t.Any:</pre>\n<pre class=\"line before\"><span class=\"ws\">        </span>&quot;&quot;&quot;The WSGI server calls the Flask application object as the</pre>\n<pre class=\"line before\"><span class=\"ws\">        </span>WSGI application. This calls :meth:`wsgi_app`, which can be</pre>\n<pre class=\"line before\"><span class=\"ws\">        </span>wrapped to apply middleware.</pre>\n<pre class=\"line before\"><span class=\"ws\">        </span>&quot;&quot;&quot;</pre>\n<pre class=\"line current\"><span class=\"ws\">        </span>return self.wsgi_app(environ, start_response)</pre></div>\n</div>\n\n<li><div class=\"frame\" id=\"frame-140646103934288\">\n  <h4>File <cite class=\"filename\">\"/opt/app-root/lib/python3.8/site-packages/flask/app.py\"</cite>,\n      line <em class=\"line\">2076</em>,\n      in <code class=\"function\">wsgi_app</code></h4>\n  <div class=\"source \"><pre class=\"line before\"><span class=\"ws\">            </span>try:</pre>\n<pre class=\"line before\"><span class=\"ws\">                </span>ctx.push()</pre>\n<pre class=\"line before\"><span class=\"ws\">                </span>response = self.full_dispatch_request()</pre>\n<pre class=\"line before\"><span class=\"ws\">            </span>except Exception as e:</pre>\n<pre class=\"line before\"><span class=\"ws\">                </span>error = e</pre>\n<pre class=\"line current\"><span class=\"ws\">                </span>response = self.handle_exception(e)</pre>\n<pre class=\"line after\"><span class=\"ws\">            </span>except:  # noqa: B001</pre>\n<pre class=\"line after\"><span class=\"ws\">                </span>error = sys.exc_info()[1]</pre>\n<pre class=\"line after\"><span class=\"ws\">                </span>raise</pre>\n<pre class=\"line after\"><span class=\"ws\">            </span>return response(environ, start_response)</pre>\n<pre class=\"line after\"><span class=\"ws\">        </span>finally:</pre></div>\n</div>\n\n<li><div class=\"frame\" id=\"frame-140643626932448\">\n  <h4>File <cite class=\"filename\">\"/opt/app-root/lib/python3.8/site-packages/flask/app.py\"</cite>,\n      line <em class=\"line\">2073</em>,\n      in <code class=\"function\">wsgi_app</code></h4>\n  <div class=\"source \"><pre class=\"line before\"><span class=\"ws\">        </span>ctx = self.request_context(environ)</pre>\n<pre class=\"line before\"><span class=\"ws\">        </span>error: t.Optional[BaseException] = None</pre>\n<pre class=\"line before\"><span class=\"ws\">        </span>try:</pre>\n<pre class=\"line before\"><span class=\"ws\">            </span>try:</pre>\n<pre class=\"line before\"><span class=\"ws\">                </span>ctx.push()</pre>\n<pre class=\"line current\"><span class=\"ws\">                </span>response = self.full_dispatch_request()</pre>\n<pre class=\"line after\"><span class=\"ws\">            </span>except Exception as e:</pre>\n<pre class=\"line after\"><span class=\"ws\">                </span>error = e</pre>\n<pre class=\"line after\"><span class=\"ws\">                </span>response = self.handle_exception(e)</pre>\n<pre class=\"line after\"><span class=\"ws\">            </span>except:  # noqa: B001</pre>\n<pre class=\"line after\"><span class=\"ws\">                </span>error = sys.exc_info()[1]</pre></div>\n</div>\n\n<li><div class=\"frame\" id=\"frame-140641525094192\">\n  <h4>File <cite class=\"filename\">\"/opt/app-root/lib/python3.8/site-packages/flask/app.py\"</cite>,\n      line <em class=\"line\">1518</em>,\n      in <code class=\"function\">full_dispatch_request</code></h4>\n  <div class=\"source \"><pre class=\"line before\"><span class=\"ws\">            </span>request_started.send(self)</pre>\n<pre class=\"line before\"><span class=\"ws\">            </span>rv = self.preprocess_request()</pre>\n<pre class=\"line before\"><span class=\"ws\">            </span>if rv is None:</pre>\n<pre class=\"line before\"><span class=\"ws\">                </span>rv = self.dispatch_request()</pre>\n<pre class=\"line before\"><span class=\"ws\">        </span>except Exception as e:</pre>\n<pre class=\"line current\"><span class=\"ws\">            </span>rv = self.handle_user_exception(e)</pre>\n<pre class=\"line after\"><span class=\"ws\">        </span>return self.finalize_request(rv)</pre>\n<pre class=\"line after\"><span class=\"ws\"></span> </pre>\n<pre class=\"line after\"><span class=\"ws\">    </span>def finalize_request(</pre>\n<pre class=\"line after\"><span class=\"ws\">        </span>self,</pre>\n<pre class=\"line after\"><span class=\"ws\">        </span>rv: t.Union[ResponseReturnValue, HTTPException],</pre></div>\n</div>\n\n<li><div class=\"frame\" id=\"frame-140641525094576\">\n  <h4>File <cite class=\"filename\">\"/opt/app-root/lib/python3.8/site-packages/flask/app.py\"</cite>,\n      line <em class=\"line\">1516</em>,\n      in <code class=\"function\">full_dispatch_request</code></h4>\n  <div class=\"source \"><pre class=\"line before\"><span class=\"ws\">        </span>self.try_trigger_before_first_request_functions()</pre>\n<pre class=\"line before\"><span class=\"ws\">        </span>try:</pre>\n<pre class=\"line before\"><span class=\"ws\">            </span>request_started.send(self)</pre>\n<pre class=\"line before\"><span class=\"ws\">            </span>rv = self.preprocess_request()</pre>\n<pre class=\"line before\"><span class=\"ws\">            </span>if rv is None:</pre>\n<pre class=\"line current\"><span class=\"ws\">                </span>rv = self.dispatch_request()</pre>\n<pre class=\"line after\"><span class=\"ws\">        </span>except Exception as e:</pre>\n<pre class=\"line after\"><span class=\"ws\">            </span>rv = self.handle_user_exception(e)</pre>\n<pre class=\"line after\"><span class=\"ws\">        </span>return self.finalize_request(rv)</pre>\n<pre class=\"line after\"><span class=\"ws\"></span> </pre>\n<pre class=\"line after\"><span class=\"ws\">    </span>def finalize_request(</pre></div>\n</div>\n\n<li><div class=\"frame\" id=\"frame-140641525094432\">\n  <h4>File <cite class=\"filename\">\"/opt/app-root/lib/python3.8/site-packages/flask/app.py\"</cite>,\n      line <em class=\"line\">1502</em>,\n      in <code class=\"function\">dispatch_request</code></h4>\n  <div class=\"source \"><pre class=\"line before\"><span class=\"ws\">            </span>getattr(rule, &quot;provide_automatic_options&quot;, False)</pre>\n<pre class=\"line before\"><span class=\"ws\">            </span>and req.method == &quot;OPTIONS&quot;</pre>\n<pre class=\"line before\"><span class=\"ws\">        </span>):</pre>\n<pre class=\"line before\"><span class=\"ws\">            </span>return self.make_default_options_response()</pre>\n<pre class=\"line before\"><span class=\"ws\">        </span># otherwise dispatch to the handler for that endpoint</pre>\n<pre class=\"line current\"><span class=\"ws\">        </span>return self.ensure_sync(self.view_functions[rule.endpoint])(**req.view_args)</pre>\n<pre class=\"line after\"><span class=\"ws\"></span> </pre>\n<pre class=\"line after\"><span class=\"ws\">    </span>def full_dispatch_request(self) -&gt; Response:</pre>\n<pre class=\"line after\"><span class=\"ws\">        </span>&quot;&quot;&quot;Dispatches the request and on top of that performs request</pre>\n<pre class=\"line after\"><span class=\"ws\">        </span>pre and postprocessing as well as HTTP exception catching and</pre>\n<pre class=\"line after\"><span class=\"ws\">        </span>error handling.</pre></div>\n</div>\n\n<li><div class=\"frame\" id=\"frame-140641525094912\">\n  <h4>File <cite class=\"filename\">\"/opt/app-root/src/image-segmentation/wsgi.py\"</cite>,\n      line <em class=\"line\">18</em>,\n      in <code class=\"function\">object_detection</code></h4>\n  <div class=\"source \"><pre class=\"line before\"><span class=\"ws\"></span> </pre>\n<pre class=\"line before\"><span class=\"ws\"></span>@application.route(&#x27;/predictions&#x27;, methods=[&#x27;POST&#x27;])</pre>\n<pre class=\"line before\"><span class=\"ws\"></span>def object_detection():</pre>\n<pre class=\"line before\"><span class=\"ws\">    </span>data = request.data or &#x27;{}&#x27;</pre>\n<pre class=\"line before\"><span class=\"ws\">    </span>body = json.loads(data)</pre>\n<pre class=\"line current\"><span class=\"ws\">    </span>return jsonify(predict(body))</pre></div>\n</div>\n\n<li><div class=\"frame\" id=\"frame-140641525668928\">\n  <h4>File <cite class=\"filename\">\"/opt/app-root/src/image-segmentation/prediction.py\"</cite>,\n      line <em class=\"line\">176</em>,\n      in <code class=\"function\">predict</code></h4>\n  <div class=\"source \"><pre class=\"line before\"><span class=\"ws\">        </span>print(args_dict)</pre>\n<pre class=\"line before\"><span class=\"ws\">        </span>pred_mask = process_base64_image(args_dict)</pre>\n<pre class=\"line before\"><span class=\"ws\">    </span>else:</pre>\n<pre class=\"line before\"><span class=\"ws\">        </span>filename = os.path.join(&#x27;dataset/images&#x27;, args_dict.get(&#x27;data&#x27;))</pre>\n<pre class=\"line before\"><span class=\"ws\">        </span>print(filename)</pre>\n<pre class=\"line current\"><span class=\"ws\">        </span>pred_mask = process_file(filename)</pre>\n<pre class=\"line after\"><span class=\"ws\">    </span>return {&#x27;pred_mask&#x27;: pred_mask.numpy().tolist()}</pre></div>\n</div>\n\n<li><div class=\"frame\" id=\"frame-140641525666624\">\n  <h4>File <cite class=\"filename\">\"/opt/app-root/src/image-segmentation/prediction.py\"</cite>,\n      line <em class=\"line\">149</em>,\n      in <code class=\"function\">process_file</code></h4>\n  <div class=\"source \"><pre class=\"line before\"><span class=\"ws\"></span> </pre>\n<pre class=\"line before\"><span class=\"ws\"></span> </pre>\n<pre class=\"line before\"><span class=\"ws\"></span> </pre>\n<pre class=\"line before\"><span class=\"ws\"></span>def process_file(filename):</pre>\n<pre class=\"line before\"><span class=\"ws\">    </span>if filename.endswith(&quot;.jpg&quot;) or filename.endswith(&quot;.jpeg&quot;) or filename.endswith(&quot;.png&quot;):</pre>\n<pre class=\"line current\"><span class=\"ws\">        </span>pred_mask = get_segmentation(filename)</pre>\n<pre class=\"line after\"><span class=\"ws\">    </span>else:</pre>\n<pre class=\"line after\"><span class=\"ws\">        </span>pred_mask = &#x27;This is not a valid image file&#x27;</pre>\n<pre class=\"line after\"><span class=\"ws\">        </span>input_image = &#x27;none&#x27;</pre>\n<pre class=\"line after\"><span class=\"ws\">        </span>print(pred_mask)</pre>\n<pre class=\"line after\"><span class=\"ws\">    </span>return pred_mask</pre></div>\n</div>\n\n<li><div class=\"frame\" id=\"frame-140641525669840\">\n  <h4>File <cite class=\"filename\">\"/opt/app-root/src/image-segmentation/prediction.py\"</cite>,\n      line <em class=\"line\">140</em>,\n      in <code class=\"function\">get_segmentation</code></h4>\n  <div class=\"source \"><pre class=\"line before\"><span class=\"ws\"></span>##############################################################################</pre>\n<pre class=\"line before\"><span class=\"ws\"></span># Returns the image of the car (vehicle) and the Licence plate image (LpImg) #</pre>\n<pre class=\"line before\"><span class=\"ws\"></span>##############################################################################</pre>\n<pre class=\"line before\"><span class=\"ws\"></span>def get_segmentation(image_path, Dmax=608, Dmin = 608):</pre>\n<pre class=\"line before\"><span class=\"ws\">    </span>input_image = preprocess_image(image_path)</pre>\n<pre class=\"line current\"><span class=\"ws\">    </span>pred_mask = img_seg_net(input_image)</pre>\n<pre class=\"line after\"><span class=\"ws\"></span> </pre>\n<pre class=\"line after\"><span class=\"ws\">    </span>show_predictions(input_image, pred_mask)</pre>\n<pre class=\"line after\"><span class=\"ws\">    </span>return create_mask(pred_mask)</pre>\n<pre class=\"line after\"><span class=\"ws\"></span> </pre>\n<pre class=\"line after\"><span class=\"ws\"></span> </pre></div>\n</div>\n</ul>\n  <blockquote>TypeError: &#x27;NoneType&#x27; object is not callable</blockquote>\n</div>\n\n<div class=\"plain\">\n    <p>\n      This is the Copy/Paste friendly version of the traceback.\n    </p>\n    <textarea cols=\"50\" rows=\"10\" name=\"code\" readonly>Traceback (most recent call last):\n  File &quot;/opt/app-root/lib/python3.8/site-packages/flask/app.py&quot;, line 2091, in __call__\n    return self.wsgi_app(environ, start_response)\n  File &quot;/opt/app-root/lib/python3.8/site-packages/flask/app.py&quot;, line 2076, in wsgi_app\n    response = self.handle_exception(e)\n  File &quot;/opt/app-root/lib/python3.8/site-packages/flask/app.py&quot;, line 2073, in wsgi_app\n    response = self.full_dispatch_request()\n  File &quot;/opt/app-root/lib/python3.8/site-packages/flask/app.py&quot;, line 1518, in full_dispatch_request\n    rv = self.handle_user_exception(e)\n  File &quot;/opt/app-root/lib/python3.8/site-packages/flask/app.py&quot;, line 1516, in full_dispatch_request\n    rv = self.dispatch_request()\n  File &quot;/opt/app-root/lib/python3.8/site-packages/flask/app.py&quot;, line 1502, in dispatch_request\n    return self.ensure_sync(self.view_functions[rule.endpoint])(**req.view_args)\n  File &quot;/opt/app-root/src/image-segmentation/wsgi.py&quot;, line 18, in object_detection\n    return jsonify(predict(body))\n  File &quot;/opt/app-root/src/image-segmentation/prediction.py&quot;, line 176, in predict\n    pred_mask = process_file(filename)\n  File &quot;/opt/app-root/src/image-segmentation/prediction.py&quot;, line 149, in process_file\n    pred_mask = get_segmentation(filename)\n  File &quot;/opt/app-root/src/image-segmentation/prediction.py&quot;, line 140, in get_segmentation\n    pred_mask = img_seg_net(input_image)\nTypeError: &#x27;NoneType&#x27; object is not callable</textarea>\n</div>\n<div class=\"explanation\">\n  The debugger caught an exception in your WSGI application.  You can now\n  look at the traceback which led to the error.  <span class=\"nojavascript\">\n  If you enable JavaScript you can also use additional features such as code\n  execution (if the evalex feature is enabled), automatic pasting of the\n  exceptions and much more.</span>\n</div>\n      <div class=\"footer\">\n        Brought to you by <strong class=\"arthur\">DON'T PANIC</strong>, your\n        friendly Werkzeug powered traceback interpreter.\n      </div>\n    </div>\n\n    <div class=\"pin-prompt\">\n      <div class=\"inner\">\n        <h3>Console Locked</h3>\n        <p>\n          The console is locked and needs to be unlocked by entering the PIN.\n          You can find the PIN printed out on the standard output of your\n          shell that runs the server.\n        <form>\n          <p>PIN:\n            <input type=text name=pin size=14>\n            <input type=submit name=btn value=\"Confirm Pin\">\n        </form>\n      </div>\n    </div>\n  </body>\n</html>\n\n<!--\n\nTraceback (most recent call last):\n  File \"/opt/app-root/lib/python3.8/site-packages/flask/app.py\", line 2091, in __call__\n    return self.wsgi_app(environ, start_response)\n  File \"/opt/app-root/lib/python3.8/site-packages/flask/app.py\", line 2076, in wsgi_app\n    response = self.handle_exception(e)\n  File \"/opt/app-root/lib/python3.8/site-packages/flask/app.py\", line 2073, in wsgi_app\n    response = self.full_dispatch_request()\n  File \"/opt/app-root/lib/python3.8/site-packages/flask/app.py\", line 1518, in full_dispatch_request\n    rv = self.handle_user_exception(e)\n  File \"/opt/app-root/lib/python3.8/site-packages/flask/app.py\", line 1516, in full_dispatch_request\n    rv = self.dispatch_request()\n  File \"/opt/app-root/lib/python3.8/site-packages/flask/app.py\", line 1502, in dispatch_request\n    return self.ensure_sync(self.view_functions[rule.endpoint])(**req.view_args)\n  File \"/opt/app-root/src/image-segmentation/wsgi.py\", line 18, in object_detection\n    return jsonify(predict(body))\n  File \"/opt/app-root/src/image-segmentation/prediction.py\", line 176, in predict\n    pred_mask = process_file(filename)\n  File \"/opt/app-root/src/image-segmentation/prediction.py\", line 149, in process_file\n    pred_mask = get_segmentation(filename)\n  File \"/opt/app-root/src/image-segmentation/prediction.py\", line 140, in get_segmentation\n    pred_mask = img_seg_net(input_image)\nTypeError: 'NoneType' object is not callable\n\n-->\n: 0",
     "output_type": "error",
     "traceback": [
      "\u001b[0;31m---------------------------------------------------------------------------\u001b[0m",
      "\u001b[0;31mJSONDecodeError\u001b[0m                           Traceback (most recent call last)",
      "File \u001b[0;32m/opt/app-root/lib64/python3.8/site-packages/requests/models.py:910\u001b[0m, in \u001b[0;36mResponse.json\u001b[0;34m(self, **kwargs)\u001b[0m\n\u001b[1;32m    909\u001b[0m \u001b[38;5;28;01mtry\u001b[39;00m:\n\u001b[0;32m--> 910\u001b[0m     \u001b[38;5;28;01mreturn\u001b[39;00m \u001b[48;5;17mcomplexjson\u001b[49m\u001b[38;5;241;48;5;17m.\u001b[39;49m\u001b[48;5;17mloads\u001b[49m\u001b[48;5;17m(\u001b[49m\u001b[38;5;28;48;5;17mself\u001b[39;49m\u001b[38;5;241;48;5;17m.\u001b[39;49m\u001b[48;5;17mtext\u001b[49m\u001b[48;5;17m,\u001b[49m\u001b[48;5;17m \u001b[49m\u001b[38;5;241;48;5;17m*\u001b[39;49m\u001b[38;5;241;48;5;17m*\u001b[39;49m\u001b[48;5;17mkwargs\u001b[49m\u001b[48;5;17m)\u001b[49m\n\u001b[1;32m    911\u001b[0m \u001b[38;5;28;01mexcept\u001b[39;00m JSONDecodeError \u001b[38;5;28;01mas\u001b[39;00m e:\n\u001b[1;32m    912\u001b[0m     \u001b[38;5;66;03m# Catch JSON-related errors and raise as requests.JSONDecodeError\u001b[39;00m\n\u001b[1;32m    913\u001b[0m     \u001b[38;5;66;03m# This aliases json.JSONDecodeError and simplejson.JSONDecodeError\u001b[39;00m\n",
      "File \u001b[0;32m/usr/lib64/python3.8/json/__init__.py:357\u001b[0m, in \u001b[0;36mloads\u001b[0;34m(s, cls, object_hook, parse_float, parse_int, parse_constant, object_pairs_hook, **kw)\u001b[0m\n\u001b[1;32m    354\u001b[0m \u001b[38;5;28;01mif\u001b[39;00m (\u001b[38;5;28mcls\u001b[39m \u001b[38;5;129;01mis\u001b[39;00m \u001b[38;5;28;01mNone\u001b[39;00m \u001b[38;5;129;01mand\u001b[39;00m object_hook \u001b[38;5;129;01mis\u001b[39;00m \u001b[38;5;28;01mNone\u001b[39;00m \u001b[38;5;129;01mand\u001b[39;00m\n\u001b[1;32m    355\u001b[0m         parse_int \u001b[38;5;129;01mis\u001b[39;00m \u001b[38;5;28;01mNone\u001b[39;00m \u001b[38;5;129;01mand\u001b[39;00m parse_float \u001b[38;5;129;01mis\u001b[39;00m \u001b[38;5;28;01mNone\u001b[39;00m \u001b[38;5;129;01mand\u001b[39;00m\n\u001b[1;32m    356\u001b[0m         parse_constant \u001b[38;5;129;01mis\u001b[39;00m \u001b[38;5;28;01mNone\u001b[39;00m \u001b[38;5;129;01mand\u001b[39;00m object_pairs_hook \u001b[38;5;129;01mis\u001b[39;00m \u001b[38;5;28;01mNone\u001b[39;00m \u001b[38;5;129;01mand\u001b[39;00m \u001b[38;5;129;01mnot\u001b[39;00m kw):\n\u001b[0;32m--> 357\u001b[0m     \u001b[38;5;28;01mreturn\u001b[39;00m \u001b[48;5;17m_default_decoder\u001b[49m\u001b[38;5;241;48;5;17m.\u001b[39;49m\u001b[48;5;17mdecode\u001b[49m\u001b[48;5;17m(\u001b[49m\u001b[48;5;17ms\u001b[49m\u001b[48;5;17m)\u001b[49m\n\u001b[1;32m    358\u001b[0m \u001b[38;5;28;01mif\u001b[39;00m \u001b[38;5;28mcls\u001b[39m \u001b[38;5;129;01mis\u001b[39;00m \u001b[38;5;28;01mNone\u001b[39;00m:\n",
      "File \u001b[0;32m/usr/lib64/python3.8/json/decoder.py:337\u001b[0m, in \u001b[0;36mJSONDecoder.decode\u001b[0;34m(self, s, _w)\u001b[0m\n\u001b[1;32m    333\u001b[0m \u001b[38;5;124;03m\"\"\"Return the Python representation of ``s`` (a ``str`` instance\u001b[39;00m\n\u001b[1;32m    334\u001b[0m \u001b[38;5;124;03mcontaining a JSON document).\u001b[39;00m\n\u001b[1;32m    335\u001b[0m \n\u001b[1;32m    336\u001b[0m \u001b[38;5;124;03m\"\"\"\u001b[39;00m\n\u001b[0;32m--> 337\u001b[0m obj, end \u001b[38;5;241m=\u001b[39m \u001b[38;5;28;48;5;17mself\u001b[39;49m\u001b[38;5;241;48;5;17m.\u001b[39;49m\u001b[48;5;17mraw_decode\u001b[49m\u001b[48;5;17m(\u001b[49m\u001b[48;5;17ms\u001b[49m\u001b[48;5;17m,\u001b[49m\u001b[48;5;17m \u001b[49m\u001b[48;5;17midx\u001b[49m\u001b[38;5;241;48;5;17m=\u001b[39;49m\u001b[48;5;17m_w\u001b[49m\u001b[48;5;17m(\u001b[49m\u001b[48;5;17ms\u001b[49m\u001b[48;5;17m,\u001b[49m\u001b[48;5;17m \u001b[49m\u001b[38;5;241;48;5;17m0\u001b[39;49m\u001b[48;5;17m)\u001b[49m\u001b[38;5;241;48;5;17m.\u001b[39;49m\u001b[48;5;17mend\u001b[49m\u001b[48;5;17m(\u001b[49m\u001b[48;5;17m)\u001b[49m\u001b[48;5;17m)\u001b[49m\n\u001b[1;32m    338\u001b[0m end \u001b[38;5;241m=\u001b[39m _w(s, end)\u001b[38;5;241m.\u001b[39mend()\n",
      "File \u001b[0;32m/usr/lib64/python3.8/json/decoder.py:355\u001b[0m, in \u001b[0;36mJSONDecoder.raw_decode\u001b[0;34m(self, s, idx)\u001b[0m\n\u001b[1;32m    354\u001b[0m \u001b[38;5;28;01mexcept\u001b[39;00m \u001b[38;5;167;01mStopIteration\u001b[39;00m \u001b[38;5;28;01mas\u001b[39;00m err:\n\u001b[0;32m--> 355\u001b[0m     \u001b[38;5;28;01mraise\u001b[39;00m JSONDecodeError(\u001b[38;5;124m\"\u001b[39m\u001b[38;5;124mExpecting value\u001b[39m\u001b[38;5;124m\"\u001b[39m, s, err\u001b[38;5;241m.\u001b[39mvalue) \u001b[38;5;28;01mfrom\u001b[39;00m \u001b[38;5;28mNone\u001b[39m\n\u001b[1;32m    356\u001b[0m \u001b[38;5;28;01mreturn\u001b[39;00m obj, end\n",
      "\u001b[0;31mJSONDecodeError\u001b[0m: Expecting value: line 1 column 1 (char 0)",
      "\nDuring handling of the above exception, another exception occurred:\n",
      "\u001b[0;31mJSONDecodeError\u001b[0m                           Traceback (most recent call last)",
      "Input \u001b[0;32mIn [10]\u001b[0m, in \u001b[0;36m<module>\u001b[0;34m\u001b[0m\n\u001b[1;32m      1\u001b[0m \u001b[38;5;28;01mimport\u001b[39;00m \u001b[38;5;21;01mmatplotlib\u001b[39;00m\u001b[38;5;21;01m.\u001b[39;00m\u001b[38;5;21;01mpyplot\u001b[39;00m \u001b[38;5;28;01mas\u001b[39;00m \u001b[38;5;21;01mplt\u001b[39;00m\n\u001b[1;32m      2\u001b[0m \u001b[38;5;28;01mimport\u001b[39;00m \u001b[38;5;21;01mnumpy\u001b[39;00m \u001b[38;5;28;01mas\u001b[39;00m \u001b[38;5;21;01mnp\u001b[39;00m\n\u001b[0;32m----> 3\u001b[0m plt\u001b[38;5;241m.\u001b[39mimshow(np\u001b[38;5;241m.\u001b[39marray(\u001b[48;5;17mresponse\u001b[49m\u001b[38;5;241;48;5;17m.\u001b[39;49m\u001b[48;5;17mjson\u001b[49m\u001b[48;5;17m(\u001b[49m\u001b[48;5;17m)\u001b[49m[\u001b[38;5;124m'\u001b[39m\u001b[38;5;124mpred_mask\u001b[39m\u001b[38;5;124m'\u001b[39m]))\n",
      "File \u001b[0;32m/opt/app-root/lib64/python3.8/site-packages/requests/models.py:917\u001b[0m, in \u001b[0;36mResponse.json\u001b[0;34m(self, **kwargs)\u001b[0m\n\u001b[1;32m    915\u001b[0m     \u001b[38;5;28;01mraise\u001b[39;00m RequestsJSONDecodeError(e\u001b[38;5;241m.\u001b[39mmessage)\n\u001b[1;32m    916\u001b[0m \u001b[38;5;28;01melse\u001b[39;00m:\n\u001b[0;32m--> 917\u001b[0m     \u001b[38;5;28;01mraise\u001b[39;00m RequestsJSONDecodeError(e\u001b[38;5;241m.\u001b[39mmsg, e\u001b[38;5;241m.\u001b[39mdoc, e\u001b[38;5;241m.\u001b[39mpos)\n",
      "\u001b[0;31mJSONDecodeError\u001b[0m: [Errno Expecting value] <!DOCTYPE HTML PUBLIC \"-//W3C//DTD HTML 4.01 Transitional//EN\"\n  \"http://www.w3.org/TR/html4/loose.dtd\">\n<html>\n  <head>\n    <title>TypeError: &#x27;NoneType&#x27; object is not callable // Werkzeug Debugger</title>\n    <link rel=\"stylesheet\" href=\"?__debugger__=yes&amp;cmd=resource&amp;f=style.css\"\n        type=\"text/css\">\n    <!-- We need to make sure this has a favicon so that the debugger does\n         not accidentally trigger a request to /favicon.ico which might\n         change the application's state. -->\n    <link rel=\"shortcut icon\"\n        href=\"?__debugger__=yes&amp;cmd=resource&amp;f=console.png\">\n    <script src=\"?__debugger__=yes&amp;cmd=resource&amp;f=debugger.js\"></script>\n    <script type=\"text/javascript\">\n      var TRACEBACK = 140641526157264,\n          CONSOLE_MODE = false,\n          EVALEX = true,\n          EVALEX_TRUSTED = false,\n          SECRET = \"E5KtzaHET0BnWNnG30MC\";\n    </script>\n  </head>\n  <body style=\"background-color: #fff\">\n    <div class=\"debugger\">\n<h1>TypeError</h1>\n<div class=\"detail\">\n  <p class=\"errormsg\">TypeError: &#x27;NoneType&#x27; object is not callable</p>\n</div>\n<h2 class=\"traceback\">Traceback <em>(most recent call last)</em></h2>\n<div class=\"traceback\">\n  <h3></h3>\n  <ul><li><div class=\"frame\" id=\"frame-140641524301888\">\n  <h4>File <cite class=\"filename\">\"/opt/app-root/lib/python3.8/site-packages/flask/app.py\"</cite>,\n      line <em class=\"line\">2091</em>,\n      in <code class=\"function\">__call__</code></h4>\n  <div class=\"source \"><pre class=\"line before\"><span class=\"ws\">    </span>def __call__(self, environ: dict, start_response: t.Callable) -&gt; t.Any:</pre>\n<pre class=\"line before\"><span class=\"ws\">        </span>&quot;&quot;&quot;The WSGI server calls the Flask application object as the</pre>\n<pre class=\"line before\"><span class=\"ws\">        </span>WSGI application. This calls :meth:`wsgi_app`, which can be</pre>\n<pre class=\"line before\"><span class=\"ws\">        </span>wrapped to apply middleware.</pre>\n<pre class=\"line before\"><span class=\"ws\">        </span>&quot;&quot;&quot;</pre>\n<pre class=\"line current\"><span class=\"ws\">        </span>return self.wsgi_app(environ, start_response)</pre></div>\n</div>\n\n<li><div class=\"frame\" id=\"frame-140646103934288\">\n  <h4>File <cite class=\"filename\">\"/opt/app-root/lib/python3.8/site-packages/flask/app.py\"</cite>,\n      line <em class=\"line\">2076</em>,\n      in <code class=\"function\">wsgi_app</code></h4>\n  <div class=\"source \"><pre class=\"line before\"><span class=\"ws\">            </span>try:</pre>\n<pre class=\"line before\"><span class=\"ws\">                </span>ctx.push()</pre>\n<pre class=\"line before\"><span class=\"ws\">                </span>response = self.full_dispatch_request()</pre>\n<pre class=\"line before\"><span class=\"ws\">            </span>except Exception as e:</pre>\n<pre class=\"line before\"><span class=\"ws\">                </span>error = e</pre>\n<pre class=\"line current\"><span class=\"ws\">                </span>response = self.handle_exception(e)</pre>\n<pre class=\"line after\"><span class=\"ws\">            </span>except:  # noqa: B001</pre>\n<pre class=\"line after\"><span class=\"ws\">                </span>error = sys.exc_info()[1]</pre>\n<pre class=\"line after\"><span class=\"ws\">                </span>raise</pre>\n<pre class=\"line after\"><span class=\"ws\">            </span>return response(environ, start_response)</pre>\n<pre class=\"line after\"><span class=\"ws\">        </span>finally:</pre></div>\n</div>\n\n<li><div class=\"frame\" id=\"frame-140643626932448\">\n  <h4>File <cite class=\"filename\">\"/opt/app-root/lib/python3.8/site-packages/flask/app.py\"</cite>,\n      line <em class=\"line\">2073</em>,\n      in <code class=\"function\">wsgi_app</code></h4>\n  <div class=\"source \"><pre class=\"line before\"><span class=\"ws\">        </span>ctx = self.request_context(environ)</pre>\n<pre class=\"line before\"><span class=\"ws\">        </span>error: t.Optional[BaseException] = None</pre>\n<pre class=\"line before\"><span class=\"ws\">        </span>try:</pre>\n<pre class=\"line before\"><span class=\"ws\">            </span>try:</pre>\n<pre class=\"line before\"><span class=\"ws\">                </span>ctx.push()</pre>\n<pre class=\"line current\"><span class=\"ws\">                </span>response = self.full_dispatch_request()</pre>\n<pre class=\"line after\"><span class=\"ws\">            </span>except Exception as e:</pre>\n<pre class=\"line after\"><span class=\"ws\">                </span>error = e</pre>\n<pre class=\"line after\"><span class=\"ws\">                </span>response = self.handle_exception(e)</pre>\n<pre class=\"line after\"><span class=\"ws\">            </span>except:  # noqa: B001</pre>\n<pre class=\"line after\"><span class=\"ws\">                </span>error = sys.exc_info()[1]</pre></div>\n</div>\n\n<li><div class=\"frame\" id=\"frame-140641525094192\">\n  <h4>File <cite class=\"filename\">\"/opt/app-root/lib/python3.8/site-packages/flask/app.py\"</cite>,\n      line <em class=\"line\">1518</em>,\n      in <code class=\"function\">full_dispatch_request</code></h4>\n  <div class=\"source \"><pre class=\"line before\"><span class=\"ws\">            </span>request_started.send(self)</pre>\n<pre class=\"line before\"><span class=\"ws\">            </span>rv = self.preprocess_request()</pre>\n<pre class=\"line before\"><span class=\"ws\">            </span>if rv is None:</pre>\n<pre class=\"line before\"><span class=\"ws\">                </span>rv = self.dispatch_request()</pre>\n<pre class=\"line before\"><span class=\"ws\">        </span>except Exception as e:</pre>\n<pre class=\"line current\"><span class=\"ws\">            </span>rv = self.handle_user_exception(e)</pre>\n<pre class=\"line after\"><span class=\"ws\">        </span>return self.finalize_request(rv)</pre>\n<pre class=\"line after\"><span class=\"ws\"></span> </pre>\n<pre class=\"line after\"><span class=\"ws\">    </span>def finalize_request(</pre>\n<pre class=\"line after\"><span class=\"ws\">        </span>self,</pre>\n<pre class=\"line after\"><span class=\"ws\">        </span>rv: t.Union[ResponseReturnValue, HTTPException],</pre></div>\n</div>\n\n<li><div class=\"frame\" id=\"frame-140641525094576\">\n  <h4>File <cite class=\"filename\">\"/opt/app-root/lib/python3.8/site-packages/flask/app.py\"</cite>,\n      line <em class=\"line\">1516</em>,\n      in <code class=\"function\">full_dispatch_request</code></h4>\n  <div class=\"source \"><pre class=\"line before\"><span class=\"ws\">        </span>self.try_trigger_before_first_request_functions()</pre>\n<pre class=\"line before\"><span class=\"ws\">        </span>try:</pre>\n<pre class=\"line before\"><span class=\"ws\">            </span>request_started.send(self)</pre>\n<pre class=\"line before\"><span class=\"ws\">            </span>rv = self.preprocess_request()</pre>\n<pre class=\"line before\"><span class=\"ws\">            </span>if rv is None:</pre>\n<pre class=\"line current\"><span class=\"ws\">                </span>rv = self.dispatch_request()</pre>\n<pre class=\"line after\"><span class=\"ws\">        </span>except Exception as e:</pre>\n<pre class=\"line after\"><span class=\"ws\">            </span>rv = self.handle_user_exception(e)</pre>\n<pre class=\"line after\"><span class=\"ws\">        </span>return self.finalize_request(rv)</pre>\n<pre class=\"line after\"><span class=\"ws\"></span> </pre>\n<pre class=\"line after\"><span class=\"ws\">    </span>def finalize_request(</pre></div>\n</div>\n\n<li><div class=\"frame\" id=\"frame-140641525094432\">\n  <h4>File <cite class=\"filename\">\"/opt/app-root/lib/python3.8/site-packages/flask/app.py\"</cite>,\n      line <em class=\"line\">1502</em>,\n      in <code class=\"function\">dispatch_request</code></h4>\n  <div class=\"source \"><pre class=\"line before\"><span class=\"ws\">            </span>getattr(rule, &quot;provide_automatic_options&quot;, False)</pre>\n<pre class=\"line before\"><span class=\"ws\">            </span>and req.method == &quot;OPTIONS&quot;</pre>\n<pre class=\"line before\"><span class=\"ws\">        </span>):</pre>\n<pre class=\"line before\"><span class=\"ws\">            </span>return self.make_default_options_response()</pre>\n<pre class=\"line before\"><span class=\"ws\">        </span># otherwise dispatch to the handler for that endpoint</pre>\n<pre class=\"line current\"><span class=\"ws\">        </span>return self.ensure_sync(self.view_functions[rule.endpoint])(**req.view_args)</pre>\n<pre class=\"line after\"><span class=\"ws\"></span> </pre>\n<pre class=\"line after\"><span class=\"ws\">    </span>def full_dispatch_request(self) -&gt; Response:</pre>\n<pre class=\"line after\"><span class=\"ws\">        </span>&quot;&quot;&quot;Dispatches the request and on top of that performs request</pre>\n<pre class=\"line after\"><span class=\"ws\">        </span>pre and postprocessing as well as HTTP exception catching and</pre>\n<pre class=\"line after\"><span class=\"ws\">        </span>error handling.</pre></div>\n</div>\n\n<li><div class=\"frame\" id=\"frame-140641525094912\">\n  <h4>File <cite class=\"filename\">\"/opt/app-root/src/image-segmentation/wsgi.py\"</cite>,\n      line <em class=\"line\">18</em>,\n      in <code class=\"function\">object_detection</code></h4>\n  <div class=\"source \"><pre class=\"line before\"><span class=\"ws\"></span> </pre>\n<pre class=\"line before\"><span class=\"ws\"></span>@application.route(&#x27;/predictions&#x27;, methods=[&#x27;POST&#x27;])</pre>\n<pre class=\"line before\"><span class=\"ws\"></span>def object_detection():</pre>\n<pre class=\"line before\"><span class=\"ws\">    </span>data = request.data or &#x27;{}&#x27;</pre>\n<pre class=\"line before\"><span class=\"ws\">    </span>body = json.loads(data)</pre>\n<pre class=\"line current\"><span class=\"ws\">    </span>return jsonify(predict(body))</pre></div>\n</div>\n\n<li><div class=\"frame\" id=\"frame-140641525668928\">\n  <h4>File <cite class=\"filename\">\"/opt/app-root/src/image-segmentation/prediction.py\"</cite>,\n      line <em class=\"line\">176</em>,\n      in <code class=\"function\">predict</code></h4>\n  <div class=\"source \"><pre class=\"line before\"><span class=\"ws\">        </span>print(args_dict)</pre>\n<pre class=\"line before\"><span class=\"ws\">        </span>pred_mask = process_base64_image(args_dict)</pre>\n<pre class=\"line before\"><span class=\"ws\">    </span>else:</pre>\n<pre class=\"line before\"><span class=\"ws\">        </span>filename = os.path.join(&#x27;dataset/images&#x27;, args_dict.get(&#x27;data&#x27;))</pre>\n<pre class=\"line before\"><span class=\"ws\">        </span>print(filename)</pre>\n<pre class=\"line current\"><span class=\"ws\">        </span>pred_mask = process_file(filename)</pre>\n<pre class=\"line after\"><span class=\"ws\">    </span>return {&#x27;pred_mask&#x27;: pred_mask.numpy().tolist()}</pre></div>\n</div>\n\n<li><div class=\"frame\" id=\"frame-140641525666624\">\n  <h4>File <cite class=\"filename\">\"/opt/app-root/src/image-segmentation/prediction.py\"</cite>,\n      line <em class=\"line\">149</em>,\n      in <code class=\"function\">process_file</code></h4>\n  <div class=\"source \"><pre class=\"line before\"><span class=\"ws\"></span> </pre>\n<pre class=\"line before\"><span class=\"ws\"></span> </pre>\n<pre class=\"line before\"><span class=\"ws\"></span> </pre>\n<pre class=\"line before\"><span class=\"ws\"></span>def process_file(filename):</pre>\n<pre class=\"line before\"><span class=\"ws\">    </span>if filename.endswith(&quot;.jpg&quot;) or filename.endswith(&quot;.jpeg&quot;) or filename.endswith(&quot;.png&quot;):</pre>\n<pre class=\"line current\"><span class=\"ws\">        </span>pred_mask = get_segmentation(filename)</pre>\n<pre class=\"line after\"><span class=\"ws\">    </span>else:</pre>\n<pre class=\"line after\"><span class=\"ws\">        </span>pred_mask = &#x27;This is not a valid image file&#x27;</pre>\n<pre class=\"line after\"><span class=\"ws\">        </span>input_image = &#x27;none&#x27;</pre>\n<pre class=\"line after\"><span class=\"ws\">        </span>print(pred_mask)</pre>\n<pre class=\"line after\"><span class=\"ws\">    </span>return pred_mask</pre></div>\n</div>\n\n<li><div class=\"frame\" id=\"frame-140641525669840\">\n  <h4>File <cite class=\"filename\">\"/opt/app-root/src/image-segmentation/prediction.py\"</cite>,\n      line <em class=\"line\">140</em>,\n      in <code class=\"function\">get_segmentation</code></h4>\n  <div class=\"source \"><pre class=\"line before\"><span class=\"ws\"></span>##############################################################################</pre>\n<pre class=\"line before\"><span class=\"ws\"></span># Returns the image of the car (vehicle) and the Licence plate image (LpImg) #</pre>\n<pre class=\"line before\"><span class=\"ws\"></span>##############################################################################</pre>\n<pre class=\"line before\"><span class=\"ws\"></span>def get_segmentation(image_path, Dmax=608, Dmin = 608):</pre>\n<pre class=\"line before\"><span class=\"ws\">    </span>input_image = preprocess_image(image_path)</pre>\n<pre class=\"line current\"><span class=\"ws\">    </span>pred_mask = img_seg_net(input_image)</pre>\n<pre class=\"line after\"><span class=\"ws\"></span> </pre>\n<pre class=\"line after\"><span class=\"ws\">    </span>show_predictions(input_image, pred_mask)</pre>\n<pre class=\"line after\"><span class=\"ws\">    </span>return create_mask(pred_mask)</pre>\n<pre class=\"line after\"><span class=\"ws\"></span> </pre>\n<pre class=\"line after\"><span class=\"ws\"></span> </pre></div>\n</div>\n</ul>\n  <blockquote>TypeError: &#x27;NoneType&#x27; object is not callable</blockquote>\n</div>\n\n<div class=\"plain\">\n    <p>\n      This is the Copy/Paste friendly version of the traceback.\n    </p>\n    <textarea cols=\"50\" rows=\"10\" name=\"code\" readonly>Traceback (most recent call last):\n  File &quot;/opt/app-root/lib/python3.8/site-packages/flask/app.py&quot;, line 2091, in __call__\n    return self.wsgi_app(environ, start_response)\n  File &quot;/opt/app-root/lib/python3.8/site-packages/flask/app.py&quot;, line 2076, in wsgi_app\n    response = self.handle_exception(e)\n  File &quot;/opt/app-root/lib/python3.8/site-packages/flask/app.py&quot;, line 2073, in wsgi_app\n    response = self.full_dispatch_request()\n  File &quot;/opt/app-root/lib/python3.8/site-packages/flask/app.py&quot;, line 1518, in full_dispatch_request\n    rv = self.handle_user_exception(e)\n  File &quot;/opt/app-root/lib/python3.8/site-packages/flask/app.py&quot;, line 1516, in full_dispatch_request\n    rv = self.dispatch_request()\n  File &quot;/opt/app-root/lib/python3.8/site-packages/flask/app.py&quot;, line 1502, in dispatch_request\n    return self.ensure_sync(self.view_functions[rule.endpoint])(**req.view_args)\n  File &quot;/opt/app-root/src/image-segmentation/wsgi.py&quot;, line 18, in object_detection\n    return jsonify(predict(body))\n  File &quot;/opt/app-root/src/image-segmentation/prediction.py&quot;, line 176, in predict\n    pred_mask = process_file(filename)\n  File &quot;/opt/app-root/src/image-segmentation/prediction.py&quot;, line 149, in process_file\n    pred_mask = get_segmentation(filename)\n  File &quot;/opt/app-root/src/image-segmentation/prediction.py&quot;, line 140, in get_segmentation\n    pred_mask = img_seg_net(input_image)\nTypeError: &#x27;NoneType&#x27; object is not callable</textarea>\n</div>\n<div class=\"explanation\">\n  The debugger caught an exception in your WSGI application.  You can now\n  look at the traceback which led to the error.  <span class=\"nojavascript\">\n  If you enable JavaScript you can also use additional features such as code\n  execution (if the evalex feature is enabled), automatic pasting of the\n  exceptions and much more.</span>\n</div>\n      <div class=\"footer\">\n        Brought to you by <strong class=\"arthur\">DON'T PANIC</strong>, your\n        friendly Werkzeug powered traceback interpreter.\n      </div>\n    </div>\n\n    <div class=\"pin-prompt\">\n      <div class=\"inner\">\n        <h3>Console Locked</h3>\n        <p>\n          The console is locked and needs to be unlocked by entering the PIN.\n          You can find the PIN printed out on the standard output of your\n          shell that runs the server.\n        <form>\n          <p>PIN:\n            <input type=text name=pin size=14>\n            <input type=submit name=btn value=\"Confirm Pin\">\n        </form>\n      </div>\n    </div>\n  </body>\n</html>\n\n<!--\n\nTraceback (most recent call last):\n  File \"/opt/app-root/lib/python3.8/site-packages/flask/app.py\", line 2091, in __call__\n    return self.wsgi_app(environ, start_response)\n  File \"/opt/app-root/lib/python3.8/site-packages/flask/app.py\", line 2076, in wsgi_app\n    response = self.handle_exception(e)\n  File \"/opt/app-root/lib/python3.8/site-packages/flask/app.py\", line 2073, in wsgi_app\n    response = self.full_dispatch_request()\n  File \"/opt/app-root/lib/python3.8/site-packages/flask/app.py\", line 1518, in full_dispatch_request\n    rv = self.handle_user_exception(e)\n  File \"/opt/app-root/lib/python3.8/site-packages/flask/app.py\", line 1516, in full_dispatch_request\n    rv = self.dispatch_request()\n  File \"/opt/app-root/lib/python3.8/site-packages/flask/app.py\", line 1502, in dispatch_request\n    return self.ensure_sync(self.view_functions[rule.endpoint])(**req.view_args)\n  File \"/opt/app-root/src/image-segmentation/wsgi.py\", line 18, in object_detection\n    return jsonify(predict(body))\n  File \"/opt/app-root/src/image-segmentation/prediction.py\", line 176, in predict\n    pred_mask = process_file(filename)\n  File \"/opt/app-root/src/image-segmentation/prediction.py\", line 149, in process_file\n    pred_mask = get_segmentation(filename)\n  File \"/opt/app-root/src/image-segmentation/prediction.py\", line 140, in get_segmentation\n    pred_mask = img_seg_net(input_image)\nTypeError: 'NoneType' object is not callable\n\n-->\n: 0"
     ]
    }
   ],
   "source": [
    "import matplotlib.pyplot as plt\n",
    "import numpy as np\n",
    "plt.imshow(np.array(response.json()['pred_mask']))"
   ]
  },
  {
   "cell_type": "code",
   "execution_count": 25,
   "metadata": {},
   "outputs": [
    {
     "data": {
      "text/plain": [
       "<Response [200]>"
      ]
     },
     "execution_count": 25,
     "metadata": {},
     "output_type": "execute_result"
    }
   ],
   "source": [
    "response"
   ]
  },
  {
   "cell_type": "markdown",
   "metadata": {},
   "source": [
    "You can experiment with other images that you will find inside the dataset/images folder.\n",
    "If you want, you can even upload your own images in this folder and make some experiments!\n",
    "\n",
    "When you're finished, you can go back to the instuctions for the conclusion of this workshop."
   ]
  }
 ],
 "metadata": {
  "accelerator": "GPU",
  "colab": {
   "collapsed_sections": [],
   "name": "Object detection",
   "private_outputs": true,
   "provenance": [],
   "toc_visible": true
  },
  "finalized": {
   "timestamp": 1618345401677,
   "trusted": true
  },
  "kernelspec": {
   "display_name": "Python 3 (ipykernel)",
   "language": "python",
   "name": "python3"
  },
  "language_info": {
   "codemirror_mode": {
    "name": "ipython",
    "version": 3
   },
   "file_extension": ".py",
   "mimetype": "text/x-python",
   "name": "python",
   "nbconvert_exporter": "python",
   "pygments_lexer": "ipython3",
   "version": "3.8.8"
  },
  "toc": {
   "base_numbering": 1,
   "nav_menu": {},
   "number_sections": true,
   "sideBar": true,
   "skip_h1_title": false,
   "title_cell": "Table of Contents",
   "title_sidebar": "Contents",
   "toc_cell": false,
   "toc_position": {},
   "toc_section_display": true,
   "toc_window_display": false
  }
 },
 "nbformat": 4,
 "nbformat_minor": 4
}
